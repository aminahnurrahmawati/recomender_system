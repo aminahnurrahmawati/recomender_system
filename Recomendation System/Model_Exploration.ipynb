{
 "cells": [
  {
   "cell_type": "code",
   "execution_count": 9,
   "metadata": {},
   "outputs": [],
   "source": [
    "#read dataset\n",
    "import pandas as pd\n",
    "from sklearn.preprocessing import LabelEncoder\n",
    "df = pd.read_csv(\"FixedDataset.csv\")\n",
    "df = df.drop(df.columns[0], axis=1)\n",
    "df = df.drop_duplicates() #drop duplicates data\n"
   ]
  },
  {
   "cell_type": "code",
   "execution_count": 10,
   "metadata": {},
   "outputs": [
    {
     "data": {
      "text/html": [
       "<div>\n",
       "<style scoped>\n",
       "    .dataframe tbody tr th:only-of-type {\n",
       "        vertical-align: middle;\n",
       "    }\n",
       "\n",
       "    .dataframe tbody tr th {\n",
       "        vertical-align: top;\n",
       "    }\n",
       "\n",
       "    .dataframe thead th {\n",
       "        text-align: right;\n",
       "    }\n",
       "</style>\n",
       "<table border=\"1\" class=\"dataframe\">\n",
       "  <thead>\n",
       "    <tr style=\"text-align: right;\">\n",
       "      <th></th>\n",
       "      <th>customer_id</th>\n",
       "      <th>page_views</th>\n",
       "      <th>time_spent</th>\n",
       "      <th>product_id</th>\n",
       "      <th>purchase_date</th>\n",
       "      <th>category</th>\n",
       "      <th>price</th>\n",
       "      <th>ratings</th>\n",
       "    </tr>\n",
       "  </thead>\n",
       "  <tbody>\n",
       "    <tr>\n",
       "      <th>0</th>\n",
       "      <td>1</td>\n",
       "      <td>25</td>\n",
       "      <td>120</td>\n",
       "      <td>101</td>\n",
       "      <td>2023-01-01</td>\n",
       "      <td>Electronics</td>\n",
       "      <td>500</td>\n",
       "      <td>4.5</td>\n",
       "    </tr>\n",
       "    <tr>\n",
       "      <th>6</th>\n",
       "      <td>5</td>\n",
       "      <td>22</td>\n",
       "      <td>110</td>\n",
       "      <td>101</td>\n",
       "      <td>2023-01-05</td>\n",
       "      <td>Electronics</td>\n",
       "      <td>500</td>\n",
       "      <td>4.5</td>\n",
       "    </tr>\n",
       "    <tr>\n",
       "      <th>12</th>\n",
       "      <td>1</td>\n",
       "      <td>25</td>\n",
       "      <td>120</td>\n",
       "      <td>105</td>\n",
       "      <td>2023-01-05</td>\n",
       "      <td>Electronics</td>\n",
       "      <td>800</td>\n",
       "      <td>4.8</td>\n",
       "    </tr>\n",
       "    <tr>\n",
       "      <th>18</th>\n",
       "      <td>2</td>\n",
       "      <td>20</td>\n",
       "      <td>90</td>\n",
       "      <td>102</td>\n",
       "      <td>2023-01-02</td>\n",
       "      <td>Clothing</td>\n",
       "      <td>50</td>\n",
       "      <td>3.8</td>\n",
       "    </tr>\n",
       "    <tr>\n",
       "      <th>19</th>\n",
       "      <td>2</td>\n",
       "      <td>25</td>\n",
       "      <td>120</td>\n",
       "      <td>102</td>\n",
       "      <td>2023-01-02</td>\n",
       "      <td>Clothing</td>\n",
       "      <td>50</td>\n",
       "      <td>3.8</td>\n",
       "    </tr>\n",
       "  </tbody>\n",
       "</table>\n",
       "</div>"
      ],
      "text/plain": [
       "    customer_id  page_views  time_spent  product_id purchase_date  \\\n",
       "0             1          25         120         101    2023-01-01   \n",
       "6             5          22         110         101    2023-01-05   \n",
       "12            1          25         120         105    2023-01-05   \n",
       "18            2          20          90         102    2023-01-02   \n",
       "19            2          25         120         102    2023-01-02   \n",
       "\n",
       "       category  price  ratings  \n",
       "0   Electronics    500      4.5  \n",
       "6   Electronics    500      4.5  \n",
       "12  Electronics    800      4.8  \n",
       "18     Clothing     50      3.8  \n",
       "19     Clothing     50      3.8  "
      ]
     },
     "execution_count": 10,
     "metadata": {},
     "output_type": "execute_result"
    }
   ],
   "source": [
    "df.head()"
   ]
  },
  {
   "cell_type": "code",
   "execution_count": 12,
   "metadata": {},
   "outputs": [],
   "source": [
    "label_encoder = LabelEncoder()\n",
    "\n",
    "# Terapkan label encoding pada kolom 'kategori'\n",
    "df['category'] = label_encoder.fit_transform(df['category'])"
   ]
  },
  {
   "cell_type": "code",
   "execution_count": 13,
   "metadata": {},
   "outputs": [
    {
     "data": {
      "text/html": [
       "<div>\n",
       "<style scoped>\n",
       "    .dataframe tbody tr th:only-of-type {\n",
       "        vertical-align: middle;\n",
       "    }\n",
       "\n",
       "    .dataframe tbody tr th {\n",
       "        vertical-align: top;\n",
       "    }\n",
       "\n",
       "    .dataframe thead th {\n",
       "        text-align: right;\n",
       "    }\n",
       "</style>\n",
       "<table border=\"1\" class=\"dataframe\">\n",
       "  <thead>\n",
       "    <tr style=\"text-align: right;\">\n",
       "      <th></th>\n",
       "      <th>customer_id</th>\n",
       "      <th>page_views</th>\n",
       "      <th>time_spent</th>\n",
       "      <th>product_id</th>\n",
       "      <th>purchase_date</th>\n",
       "      <th>category</th>\n",
       "      <th>price</th>\n",
       "      <th>ratings</th>\n",
       "    </tr>\n",
       "  </thead>\n",
       "  <tbody>\n",
       "    <tr>\n",
       "      <th>0</th>\n",
       "      <td>1</td>\n",
       "      <td>25</td>\n",
       "      <td>120</td>\n",
       "      <td>101</td>\n",
       "      <td>2023-01-01</td>\n",
       "      <td>2</td>\n",
       "      <td>500</td>\n",
       "      <td>4.5</td>\n",
       "    </tr>\n",
       "    <tr>\n",
       "      <th>6</th>\n",
       "      <td>5</td>\n",
       "      <td>22</td>\n",
       "      <td>110</td>\n",
       "      <td>101</td>\n",
       "      <td>2023-01-05</td>\n",
       "      <td>2</td>\n",
       "      <td>500</td>\n",
       "      <td>4.5</td>\n",
       "    </tr>\n",
       "    <tr>\n",
       "      <th>12</th>\n",
       "      <td>1</td>\n",
       "      <td>25</td>\n",
       "      <td>120</td>\n",
       "      <td>105</td>\n",
       "      <td>2023-01-05</td>\n",
       "      <td>2</td>\n",
       "      <td>800</td>\n",
       "      <td>4.8</td>\n",
       "    </tr>\n",
       "    <tr>\n",
       "      <th>18</th>\n",
       "      <td>2</td>\n",
       "      <td>20</td>\n",
       "      <td>90</td>\n",
       "      <td>102</td>\n",
       "      <td>2023-01-02</td>\n",
       "      <td>1</td>\n",
       "      <td>50</td>\n",
       "      <td>3.8</td>\n",
       "    </tr>\n",
       "    <tr>\n",
       "      <th>19</th>\n",
       "      <td>2</td>\n",
       "      <td>25</td>\n",
       "      <td>120</td>\n",
       "      <td>102</td>\n",
       "      <td>2023-01-02</td>\n",
       "      <td>1</td>\n",
       "      <td>50</td>\n",
       "      <td>3.8</td>\n",
       "    </tr>\n",
       "  </tbody>\n",
       "</table>\n",
       "</div>"
      ],
      "text/plain": [
       "    customer_id  page_views  time_spent  product_id purchase_date  category  \\\n",
       "0             1          25         120         101    2023-01-01         2   \n",
       "6             5          22         110         101    2023-01-05         2   \n",
       "12            1          25         120         105    2023-01-05         2   \n",
       "18            2          20          90         102    2023-01-02         1   \n",
       "19            2          25         120         102    2023-01-02         1   \n",
       "\n",
       "    price  ratings  \n",
       "0     500      4.5  \n",
       "6     500      4.5  \n",
       "12    800      4.8  \n",
       "18     50      3.8  \n",
       "19     50      3.8  "
      ]
     },
     "execution_count": 13,
     "metadata": {},
     "output_type": "execute_result"
    }
   ],
   "source": [
    "df.head(5)"
   ]
  },
  {
   "cell_type": "markdown",
   "metadata": {},
   "source": [
    "Collaborative Filtering (K-Nearest Neighbors):"
   ]
  },
  {
   "cell_type": "code",
   "execution_count": 14,
   "metadata": {},
   "outputs": [
    {
     "name": "stdout",
     "output_type": "stream",
     "text": [
      "Produk yang direkomendasikan:\n",
      "     customer_id  page_views  time_spent  product_id        purchase_date  \\\n",
      "0              1          25         120         101           2023-01-01   \n",
      "88            85          12          67         113  2022-04-09 00:00:00   \n",
      "121           55          18          87          46  2023-08-24 00:00:00   \n",
      "6              5          22         110         101           2023-01-05   \n",
      "81            71          30          97          99  2023-03-02 00:00:00   \n",
      "\n",
      "     category  price  ratings  \n",
      "0           2    500      4.5  \n",
      "88          3    291      1.3  \n",
      "121         3    389      1.7  \n",
      "6           2    500      4.5  \n",
      "81          0    418      4.8  \n"
     ]
    },
    {
     "name": "stderr",
     "output_type": "stream",
     "text": [
      "c:\\ProgramData\\anaconda3\\lib\\site-packages\\sklearn\\base.py:420: UserWarning: X does not have valid feature names, but NearestNeighbors was fitted with feature names\n",
      "  warnings.warn(\n"
     ]
    }
   ],
   "source": [
    "from sklearn.neighbors import NearestNeighbors\n",
    "\n",
    "# Fitur yang akan digunakan untuk rekomendasi\n",
    "features = ['page_views', 'time_spent', 'category', 'price', 'ratings']\n",
    "\n",
    "# Memilih data yang akan digunakan untuk pelatihan model\n",
    "train_data = df[features]\n",
    "\n",
    "# Inisialisasi model K-Nearest Neighbors\n",
    "knn_model = NearestNeighbors(metric='cosine', algorithm='brute')\n",
    "\n",
    "# Melatih model\n",
    "knn_model.fit(train_data)\n",
    "\n",
    "# Menggunakan model untuk membuat rekomendasi\n",
    "# Misalnya, untuk mendapatkan 5 rekomendasi produk untuk customer dengan customer_id=1\n",
    "customer_data = df[df['customer_id'] == 1][features].iloc[0]\n",
    "distances, indices = knn_model.kneighbors([customer_data], n_neighbors=5)\n",
    "\n",
    "# Indeks produk yang direkomendasikan\n",
    "recommended_product_indices = indices.flatten()\n",
    "\n",
    "print(\"Produk yang direkomendasikan:\")\n",
    "print(df.iloc[recommended_product_indices])\n"
   ]
  },
  {
   "cell_type": "markdown",
   "metadata": {},
   "source": [
    "Content-Based Filtering (Decision Tree Classifier):"
   ]
  },
  {
   "cell_type": "code",
   "execution_count": 19,
   "metadata": {},
   "outputs": [
    {
     "name": "stdout",
     "output_type": "stream",
     "text": [
      "Produk yang direkomendasikan untuk customer_id=1: [101]\n",
      "RMSE: 0.0\n",
      "Akurasi model: 1.0\n"
     ]
    },
    {
     "name": "stderr",
     "output_type": "stream",
     "text": [
      "c:\\ProgramData\\anaconda3\\lib\\site-packages\\sklearn\\base.py:420: UserWarning: X does not have valid feature names, but DecisionTreeClassifier was fitted with feature names\n",
      "  warnings.warn(\n"
     ]
    }
   ],
   "source": [
    "from sklearn.tree import DecisionTreeClassifier\n",
    "from sklearn.metrics import accuracy_score\n",
    "from sklearn.metrics import mean_squared_error\n",
    "\n",
    "# Memilih data yang akan digunakan untuk pelatihan model\n",
    "X_train = df[features]\n",
    "y_train = df['product_id']\n",
    "\n",
    "# Inisialisasi dan melatih model Decision Tree Classifier\n",
    "dt_model = DecisionTreeClassifier(random_state=42)\n",
    "dt_model.fit(X_train, y_train)\n",
    "\n",
    "# Membuat prediksi produk untuk customer dengan customer_id=1\n",
    "customer_data = df[df['customer_id'] == 1][features].iloc[0]\n",
    "predicted_product_id = dt_model.predict([customer_data])\n",
    "\n",
    "print(\"Produk yang direkomendasikan untuk customer_id=1:\", predicted_product_id)\n",
    "\n",
    "# Mengukur akurasi model (contoh saja, karena tidak relevan untuk rekomendasi produk)\n",
    "y_pred = dt_model.predict(X_train)\n",
    "accuracy = accuracy_score(y_train, y_pred)\n",
    "# Evaluasi kinerja model dengan RMSE (Root Mean Squared Error)\n",
    "rmse = mean_squared_error(y_train, y_pred, squared=False)\n",
    "print(\"RMSE:\", rmse)\n",
    "print(\"Akurasi model:\", accuracy)\n"
   ]
  },
  {
   "cell_type": "code",
   "execution_count": 17,
   "metadata": {},
   "outputs": [
    {
     "name": "stdout",
     "output_type": "stream",
     "text": [
      "RMSE: 44.19198435519726\n"
     ]
    }
   ],
   "source": [
    "from sklearn.ensemble import RandomForestRegressor\n",
    "from sklearn.model_selection import train_test_split\n",
    "from sklearn.metrics import mean_squared_error\n",
    "# Memilih data yang akan digunakan untuk pelatihan model\n",
    "\n",
    "X_train = df[features]\n",
    "y_train = df['product_id']\n",
    "\n",
    "# Misalkan X_train dan y_train adalah fitur dan target yang digunakan untuk melatih model\n",
    "X_train, X_test, y_train, y_test = train_test_split(X_train, y_train, test_size=0.2, random_state=42)\n",
    "\n",
    "# Inisialisasi dan melatih model Random Forest Regressor\n",
    "rf_regressor = RandomForestRegressor(random_state=42)\n",
    "rf_regressor.fit(X_train, y_train)\n",
    "\n",
    "# Lakukan prediksi untuk data uji\n",
    "y_pred = rf_regressor.predict(X_test)\n",
    "\n",
    "# Evaluasi kinerja model dengan RMSE (Root Mean Squared Error)\n",
    "rmse = mean_squared_error(y_test, y_pred, squared=False)\n",
    "print(\"RMSE:\", rmse)\n"
   ]
  }
 ],
 "metadata": {
  "kernelspec": {
   "display_name": "base",
   "language": "python",
   "name": "python3"
  },
  "language_info": {
   "codemirror_mode": {
    "name": "ipython",
    "version": 3
   },
   "file_extension": ".py",
   "mimetype": "text/x-python",
   "name": "python",
   "nbconvert_exporter": "python",
   "pygments_lexer": "ipython3",
   "version": "3.10.9"
  }
 },
 "nbformat": 4,
 "nbformat_minor": 2
}
